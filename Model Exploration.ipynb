{
 "cells": [
  {
   "cell_type": "code",
   "execution_count": 1,
   "metadata": {},
   "outputs": [],
   "source": [
    "# Essentials\n",
    "import pickle\n",
    "import os\n",
    "import math\n",
    "import numpy as np\n",
    "import pandas as pd\n",
    "import seaborn as sns\n",
    "\n",
    "# Visualization\n",
    "import matplotlib.pyplot as plt\n",
    "%matplotlib inline\n",
    "from sklearn.metrics import confusion_matrix\n",
    "\n",
    "# PyTorch\n",
    "import torch\n",
    "import torchvision\n",
    "import torch.nn as nn  \n",
    "import torch.nn.functional as F  \n",
    "import torchvision.datasets as datasets  \n",
    "import torchvision.transforms as transforms  \n",
    "from torch.utils.data import DataLoader"
   ]
  },
  {
   "cell_type": "code",
   "execution_count": 2,
   "metadata": {},
   "outputs": [
    {
     "data": {
      "text/plain": [
       "'1.9.0'"
      ]
     },
     "execution_count": 2,
     "metadata": {},
     "output_type": "execute_result"
    }
   ],
   "source": [
    "torch.__version__"
   ]
  },
  {
   "cell_type": "code",
   "execution_count": 3,
   "metadata": {},
   "outputs": [
    {
     "name": "stdout",
     "output_type": "stream",
     "text": [
      "cuda:0\n"
     ]
    }
   ],
   "source": [
    "device = torch.device(\"cuda:0\" if torch.cuda.is_available() else \"cpu\")\n",
    "print(device)"
   ]
  },
  {
   "cell_type": "markdown",
   "metadata": {},
   "source": [
    "# 1. Plotting histogram of materials"
   ]
  },
  {
   "cell_type": "code",
   "execution_count": 4,
   "metadata": {},
   "outputs": [],
   "source": [
    "# Imagenet normalization\n",
    "mean = [0.485, 0.456, 0.406]\n",
    "std = [0.229, 0.224, 0.225]\n",
    "data_transforms = {\n",
    "    \"train\": transforms.Compose([\n",
    "        transforms.RandomResizedCrop(224),  \n",
    "        transforms.RandomHorizontalFlip(),  # augmentations\n",
    "        transforms.ToTensor(),\n",
    "        transforms.Normalize(mean, std)  \n",
    "    ]),\n",
    "    \"val\": transforms.Compose([\n",
    "        transforms.Resize(256),\n",
    "        transforms.CenterCrop(224),\n",
    "        transforms.ToTensor(),\n",
    "        transforms.Normalize(mean, std)\n",
    "    ]),\n",
    "}"
   ]
  },
  {
   "cell_type": "markdown",
   "metadata": {},
   "source": [
    "## Import resources"
   ]
  },
  {
   "cell_type": "code",
   "execution_count": 5,
   "metadata": {},
   "outputs": [],
   "source": [
    "# Directories\n",
    "data_dir = \"/storage/intern\"\n",
    "label_path = \"./mat/MatLB3\"\n",
    "params_path = \"./mat/params\""
   ]
  },
  {
   "cell_type": "code",
   "execution_count": 6,
   "metadata": {},
   "outputs": [
    {
     "name": "stdout",
     "output_type": "stream",
     "text": [
      "Number of classes: 31\n",
      "Number of batches: 6468\n",
      "['calf', 'canvas', 'canvas+leather', 'coatedcanvas', 'crocodile', 'denim', 'enamel', 'flora canvas', 'fur', 'gg crystal', 'gg embossed leather', 'gg imprime ', 'gg nylon', 'gg plus', 'gg supreme canvas', 'ggcanvas', 'guccissima', 'guccissima nylon', 'jacquard ', 'leather', 'linen', 'lizard', 'microguccissima', 'nylon', 'ostrich', 'pig', 'python', 'quilted leather', 'suede', 'velor', 'velvet']\n"
     ]
    }
   ],
   "source": [
    "# Define parameter\n",
    "batch_size = 8\n",
    "num_workers = 2\n",
    "experiment = \"mat\"\n",
    "# Load Data\n",
    "train_set = datasets.ImageFolder(os.path.join(data_dir, \"train\"), data_transforms[\"train\"])\n",
    "val_set = datasets.ImageFolder(os.path.join(data_dir, \"val\"), data_transforms[\"val\"])\n",
    "\n",
    "train_loader = torch.utils.data.DataLoader(train_set, batch_size=batch_size, shuffle=True, num_workers=num_workers)\n",
    "val_loader = torch.utils.data.DataLoader(val_set, batch_size=batch_size, shuffle=False, num_workers=num_workers)\n",
    "\n",
    "train_size = len(train_set)\n",
    "val_size = len(val_set)\n",
    "class_names = train_set.classes\n",
    "num_class = len(class_names)\n",
    "num_batches = math.floor(train_size/batch_size)\n",
    "print(f\"Number of classes: {num_class}\")\n",
    "print(f\"Number of batches: {num_batches}\")\n",
    "print(class_names)"
   ]
  },
  {
   "cell_type": "code",
   "execution_count": 7,
   "metadata": {},
   "outputs": [
    {
     "name": "stderr",
     "output_type": "stream",
     "text": [
      "Using cache found in /root/.cache/torch/hub/NVIDIA_DeepLearningExamples_torchhub\n",
      "/root/.cache/torch/hub/NVIDIA_DeepLearningExamples_torchhub/PyTorch/Classification/ConvNets/image_classification/models/common.py:14: UserWarning: pytorch_quantization module not found, quantization will not be available\n",
      "  \"pytorch_quantization module not found, quantization will not be available\"\n",
      "/root/.cache/torch/hub/NVIDIA_DeepLearningExamples_torchhub/PyTorch/Classification/ConvNets/image_classification/models/efficientnet.py:18: UserWarning: pytorch_quantization module not found, quantization will not be available\n",
      "  \"pytorch_quantization module not found, quantization will not be available\"\n"
     ]
    },
    {
     "name": "stdout",
     "output_type": "stream",
     "text": [
      "31\n"
     ]
    }
   ],
   "source": [
    "# Model\n",
    "model = torch.hub.load('NVIDIA/DeepLearningExamples:torchhub', 'nvidia_efficientnet_widese_b0', pretrained=True)\n",
    "in_fc = model.classifier.fc.in_features\n",
    "model.classifier.fc = nn.Linear(in_fc, num_class)\n",
    "# Load params\n",
    "model.load_state_dict(torch.load(params_path))\n",
    "model.eval()\n",
    "# Labels\n",
    "label_names = pickle.loads(open(label_path, \"rb\").read())\n",
    "print(len(label_names))"
   ]
  },
  {
   "cell_type": "code",
   "execution_count": 8,
   "id": "bad83381",
   "metadata": {},
   "outputs": [
    {
     "name": "stdout",
     "output_type": "stream",
     "text": [
      "<class 'pandas.core.frame.DataFrame'>\n",
      "Int64Index: 65209 entries, 61 to 72007\n",
      "Data columns (total 2 columns):\n",
      " #   Column  Non-Null Count  Dtype \n",
      "---  ------  --------------  ----- \n",
      " 0   path    65209 non-null  object\n",
      " 1   mat     65209 non-null  object\n",
      "dtypes: object(2)\n",
      "memory usage: 1.5+ MB\n"
     ]
    }
   ],
   "source": [
    "# Dataframe of file path and material\n",
    "img_path = '/storage/gcpproddata/'\n",
    "meta_path = '/storage/experiments/gucci-202202211437/csv/'\n",
    "df = pd.read_csv(meta_path + 'imagepaths.csv')                      # path-bag-location dataset\n",
    "df = df[df.location == 1]                                           # only need data with location 1\n",
    "df1 = df[['path','bag']]                                            # remove location column\n",
    "df2 = pd.read_csv(meta_path + 'bagsgucci.csv')[['bag', 'mat']]      # Bag-mat dataset\n",
    "meta_df = df1.merge(df2, how='left', on='bag').drop('bag', axis=1)  # Merge on 2 dataset\n",
    "meta_df = meta_df.replace(r'^\\s*$', np.NaN, regex=True)             # Replace all empty string by NULL\n",
    "meta_df = meta_df.dropna(axis=0)\n",
    "meta_df.info()"
   ]
  },
  {
   "cell_type": "code",
   "execution_count": 9,
   "metadata": {},
   "outputs": [
    {
     "name": "stdout",
     "output_type": "stream",
     "text": [
      "leather                30.70\n",
      "gg supreme canvas      19.39\n",
      "canvas                 17.74\n",
      "ggcanvas                9.36\n",
      "coatedcanvas            4.71\n",
      "guccissima              4.23\n",
      "microguccissima         1.74\n",
      "nylon                   1.28\n",
      "suede                   1.27\n",
      "flora canvas            1.22\n",
      "guccissima nylon        1.04\n",
      "gg plus                 1.04\n",
      "python                  0.82\n",
      "gg imprime              0.66\n",
      "calf                    0.65\n",
      "enamel                  0.59\n",
      "denim                   0.49\n",
      "velvet                  0.40\n",
      "gg embossed leather     0.28\n",
      "gg nylon                0.24\n",
      "gg crystal              0.23\n",
      "linen                   0.21\n",
      "jacquard                0.15\n",
      "ostrich                 0.15\n",
      "crocodile               0.14\n",
      "lizard                  0.13\n",
      "quilted leather         0.11\n",
      "leather+canvas          0.10\n",
      "canvas+leather          0.10\n",
      "wool                    0.10\n",
      "velor                   0.07\n",
      "pig                     0.07\n",
      "nubuck                  0.06\n",
      "fur                     0.06\n",
      "suede+leather           0.06\n",
      "raffia                  0.05\n",
      "felt                    0.05\n",
      "flora leather           0.04\n",
      "pvcvinyl                0.04\n",
      "straw                   0.04\n",
      "buckskin                0.03\n",
      "satin                   0.03\n",
      "mouton                  0.03\n",
      "patent leather          0.03\n",
      "nylon+leather           0.03\n",
      "vinyl                   0.03\n",
      "beads                   0.02\n",
      "Name: mat, dtype: float64\n"
     ]
    }
   ],
   "source": [
    "# Take a quick look at class distribution\n",
    "label_df = meta_df[\"mat\"]\n",
    "freq = label_df.value_counts(normalize=True)\n",
    "freq = round(freq, 4) * 100     # convert to percentage\n",
    "print(freq)    "
   ]
  },
  {
   "cell_type": "markdown",
   "metadata": {},
   "source": [
    "## Pick top-20 class for visualization"
   ]
  },
  {
   "cell_type": "code",
   "execution_count": 10,
   "metadata": {},
   "outputs": [],
   "source": [
    "robust_freq = pd.DataFrame(freq).iloc[:20]"
   ]
  },
  {
   "cell_type": "markdown",
   "metadata": {},
   "source": [
    "## Histogram"
   ]
  },
  {
   "cell_type": "code",
   "execution_count": 11,
   "metadata": {},
   "outputs": [
    {
     "data": {
      "text/plain": [
       "<Figure size 1152x1008 with 0 Axes>"
      ]
     },
     "metadata": {},
     "output_type": "display_data"
    },
    {
     "data": {
      "image/png": "[encoded data removed]",
      "text/plain": [
       "<Figure size 1080x720 with 1 Axes>"
      ]
     },
     "metadata": {
      "needs_background": "light"
     },
     "output_type": "display_data"
    }
   ],
   "source": [
    "# Histogram with robust frequency labels\n",
    "robust_freq = robust_freq.transpose()   # transpose for visualization\n",
    "\n",
    "plt.figure(figsize=(16, 14))\n",
    "sns.catplot(data=robust_freq, kind=\"bar\", height=10, aspect=1.5, legend_out=True, palette=\"flare\")\n",
    "plt.xticks(rotation=90)\n",
    "plt.title('Labels Distribution', fontsize=20)\n",
    "# plt.savefig('LabelDist.png')\n",
    "plt.show()"
   ]
  },
  {
   "cell_type": "markdown",
   "metadata": {},
   "source": [
    "# 2. Plot a confusion matrix for materials."
   ]
  },
  {
   "cell_type": "markdown",
   "metadata": {},
   "source": [
    "## For first time"
   ]
  },
  {
   "cell_type": "code",
   "execution_count": 19,
   "metadata": {},
   "outputs": [],
   "source": [
    "model.eval()\n",
    "model.to(device)\n",
    "prob = []   # probability\n",
    "y_pred = [] # prediction labels\n",
    "y_true = [] # tru labels\n",
    "with torch.no_grad():\n",
    "    for data in val_loader:\n",
    "        images, labels = data\n",
    "        labels = labels.to(device)\n",
    "        images = images.to(device)\n",
    "        # calculate outputs by running images through the network\n",
    "        outputs = model(images)\n",
    "        # the class with the highest energy is what we choose as prediction\n",
    "        _, predicted = torch.max(outputs.data, 1)\n",
    "        labels = labels.detach().cpu().numpy()\n",
    "        outputs = outputs.detach().cpu().numpy()\n",
    "        predicted = predicted.detach().cpu().numpy()\n",
    "        prob.append(outputs)\n",
    "        y_pred.append(predicted)\n",
    "        y_true.append(labels)\n",
    "\n",
    "prob = np.concatenate(prob)        \n",
    "y_pred = np.concatenate(y_pred)\n",
    "y_true = np.concatenate(y_true)"
   ]
  },
  {
   "cell_type": "code",
   "execution_count": 39,
   "metadata": {},
   "outputs": [],
   "source": [
    "pred_path = \"./mat/pred\"\n",
    "true_path = \"./mat/true\"\n",
    "prob_path = \"./mat/prob\""
   ]
  },
  {
   "cell_type": "code",
   "execution_count": 40,
   "metadata": {},
   "outputs": [],
   "source": [
    "# Pickle label and prediction\n",
    "f = open(pred_path, \"wb\")\n",
    "f.write(pickle.dumps(y_pred))\n",
    "f.close()\n",
    "\n",
    "f = open(true_path, \"wb\")\n",
    "f.write(pickle.dumps(y_true))\n",
    "f.close()\n",
    "\n",
    "f = open(prob_path, \"wb\")\n",
    "f.write(pickle.dumps(prob))\n",
    "f.close()"
   ]
  },
  {
   "cell_type": "markdown",
   "metadata": {},
   "source": [
    "## Reimport probability, predict and true labels"
   ]
  },
  {
   "cell_type": "code",
   "execution_count": 9,
   "metadata": {},
   "outputs": [],
   "source": [
    "# y_pred = pickle.loads(open(pred_path, \"rb\").read())\n",
    "# y_true = pickle.loads(open(true_path, \"rb\").read())\n",
    "# prob = pickle.loads(open(prob_path, \"rb\").read())"
   ]
  },
  {
   "cell_type": "markdown",
   "metadata": {},
   "source": [
    "## Confusion matrix:"
   ]
  },
  {
   "cell_type": "markdown",
   "metadata": {},
   "source": [
    "Confusion Matrix with Normalized"
   ]
  },
  {
   "cell_type": "code",
   "execution_count": 31,
   "metadata": {},
   "outputs": [],
   "source": [
    "# Function for lower triangle confusion matrix\n",
    "def tril_confusion_matrix(y_true, y_pred, normalize = None):\n",
    "    \"\"\"Create a lower triangle confusion matrix\n",
    "\n",
    "    Args:\n",
    "        y_true (NumpyArray): true labels\n",
    "        y_pred (NumpyArray): prediction labels\n",
    "        normalize (\"true\", \"pred\", \"all\", None optional): Choose whether normalize or not. Defaults to None.\n",
    "    \"\"\"\n",
    "    cm = confusion_matrix(y_true, y_pred, normalize=normalize)\n",
    "    # Create an mask for triangle\n",
    "    mask = np.ones_like(cm, dtype=np.bool)\n",
    "    mask[np.tril_indices_from(mask)] = False\n",
    "\n",
    "    # Plot confusion matrix in a beautiful manner\n",
    "    fig = plt.figure(figsize=(16, 14))\n",
    "    ax = plt.subplot()\n",
    "\n",
    "    sns.heatmap(cm, ax=ax, mask=mask, cmap=\"Blues\", square=True, linewidths=.5)\n",
    "\n",
    "    ax.set_xlabel('Predicted Label', fontsize=20)\n",
    "    ax.set_ylabel('True Label', fontsize=20)\n",
    "    plt.yticks(rotation=0)\n",
    "    plt.title('Lower Triangle Confusion Matrix', fontsize=20)\n",
    "    # plt.savefig('ConfusionMat.png')\n",
    "    plt.show()"
   ]
  },
  {
   "cell_type": "code",
   "execution_count": 32,
   "metadata": {},
   "outputs": [
    {
     "data": {
      "image/png": "[encoded data removed]",
      "text/plain": [
       "<Figure size 1152x1008 with 2 Axes>"
      ]
     },
     "metadata": {
      "needs_background": "light"
     },
     "output_type": "display_data"
    }
   ],
   "source": [
    "tril_confusion_matrix(y_true, y_pred, normalize=\"true\")"
   ]
  },
  {
   "cell_type": "markdown",
   "metadata": {},
   "source": [
    "Confusion matrix without Normalized"
   ]
  },
  {
   "cell_type": "code",
   "execution_count": 33,
   "metadata": {},
   "outputs": [
    {
     "data": {
      "image/png": "[encoded data removed]",
      "text/plain": [
       "<Figure size 1152x1008 with 2 Axes>"
      ]
     },
     "metadata": {
      "needs_background": "light"
     },
     "output_type": "display_data"
    }
   ],
   "source": [
    "tril_confusion_matrix(y_true, y_pred)"
   ]
  },
  {
   "cell_type": "code",
   "execution_count": 35,
   "metadata": {},
   "outputs": [
    {
     "name": "stdout",
     "output_type": "stream",
     "text": [
      "leather\n",
      "pig\n",
      "quilted leather\n"
     ]
    }
   ],
   "source": [
    "a = [19, 25, 27]\n",
    "for num in a:\n",
    "    print(label_names[num])"
   ]
  },
  {
   "cell_type": "markdown",
   "metadata": {},
   "source": [
    "# 3. Take a look at results again"
   ]
  },
  {
   "cell_type": "markdown",
   "metadata": {},
   "source": [
    "## The rate of wrong labeling in batch"
   ]
  },
  {
   "cell_type": "code",
   "execution_count": 36,
   "metadata": {},
   "outputs": [
    {
     "name": "stdout",
     "output_type": "stream",
     "text": [
      "Rate of wrong label: 24.9%\n"
     ]
    }
   ],
   "source": [
    "wrong_idx = y_pred != y_true\n",
    "print(f\"Rate of wrong label: {round(wrong_idx.sum() / len(wrong_idx)*100, 2)}%\")"
   ]
  },
  {
   "cell_type": "markdown",
   "metadata": {},
   "source": [
    "## The TODO: Visualize the worst errors"
   ]
  },
  {
   "cell_type": "code",
   "execution_count": 37,
   "metadata": {},
   "outputs": [],
   "source": [
    "def find_the_worst_error(prob, y_pred, y_true, label_names, data_ds, batch_size):\n",
    "    \"\"\"Input numpy array with probability, prediction labels, true labels, dataset, batch size.\n",
    "    Which return the worst prediction picture, predict and label\n",
    "\n",
    "    Args:\n",
    "        prob (ndarray): probability after prediction\n",
    "        y_pred (numpy.parray): prediction label of dataset\n",
    "        y_true (numpy.array): true label of dataset\n",
    "        data_ds (tf.dataset): dataset\n",
    "        batch_size (int): batch size of dataset\n",
    "        label_names (list): list of labels class name\n",
    "\n",
    "    Returns:\n",
    "        _type_: _description_\n",
    "    \"\"\"\n",
    "    \n",
    "    # Find index\n",
    "    mask = y_pred != y_true\n",
    "    subset_idx = np.argmax(prob[mask]) // len(label_names)      # find the max probability with mask\n",
    "    parent_idx = np.arange(prob.shape[0])[mask][subset_idx]     # find index in parent dataset\n",
    "    batch_idx = parent_idx // batch_size                        # find batch\n",
    "    idx = parent_idx % batch_size                               # find index in batch\n",
    "    \n",
    "    # Variable return\n",
    "    label = label_names[y_true[parent_idx]]                     # label of the worst error\n",
    "    worst_prob = max(prob[mask].flatten())\n",
    "    predict = label_names[y_pred[parent_idx]]                   # prediction of the worst error\n",
    "    batch = list(data_ds.skip(batch_idx).take(1))[0][0].numpy() # remove the label\n",
    "    picture = batch[idx]\n",
    "    \n",
    "    # Print result\n",
    "    plt.imshow(picture.astype(np.uint8))\n",
    "    plt.axis(\"off\")\n",
    "    print(f\"The prediction label is: {predict}\")\n",
    "    print(f\"The true label is: {label}\")\n",
    "    print(f\"The probability is {worst_prob * 100}%\")\n",
    "    # return picture, worst_pred, label"
   ]
  },
  {
   "cell_type": "code",
   "execution_count": 38,
   "metadata": {},
   "outputs": [
    {
     "ename": "AttributeError",
     "evalue": "'ImageFolder' object has no attribute 'skip'",
     "output_type": "error",
     "traceback": [
      "\u001b[0;31m---------------------------------------------------------------------------\u001b[0m",
      "\u001b[0;31mAttributeError\u001b[0m                            Traceback (most recent call last)",
      "\u001b[0;32m/tmp/ipykernel_26381/2269590282.py\u001b[0m in \u001b[0;36m<module>\u001b[0;34m\u001b[0m\n\u001b[1;32m      4\u001b[0m                      \u001b[0mlabel_names\u001b[0m\u001b[0;34m=\u001b[0m\u001b[0mlabel_names\u001b[0m\u001b[0;34m,\u001b[0m\u001b[0;34m\u001b[0m\u001b[0;34m\u001b[0m\u001b[0m\n\u001b[1;32m      5\u001b[0m                      \u001b[0mdata_ds\u001b[0m\u001b[0;34m=\u001b[0m\u001b[0mval_set\u001b[0m\u001b[0;34m,\u001b[0m\u001b[0;34m\u001b[0m\u001b[0;34m\u001b[0m\u001b[0m\n\u001b[0;32m----> 6\u001b[0;31m                      batch_size=batch_size)\n\u001b[0m",
      "\u001b[0;32m/tmp/ipykernel_26381/3716080222.py\u001b[0m in \u001b[0;36mfind_the_worst_error\u001b[0;34m(prob, y_pred, y_true, label_names, data_ds, batch_size)\u001b[0m\n\u001b[1;32m     26\u001b[0m     \u001b[0mworst_prob\u001b[0m \u001b[0;34m=\u001b[0m \u001b[0mmax\u001b[0m\u001b[0;34m(\u001b[0m\u001b[0mprob\u001b[0m\u001b[0;34m[\u001b[0m\u001b[0mmask\u001b[0m\u001b[0;34m]\u001b[0m\u001b[0;34m.\u001b[0m\u001b[0mflatten\u001b[0m\u001b[0;34m(\u001b[0m\u001b[0;34m)\u001b[0m\u001b[0;34m)\u001b[0m\u001b[0;34m\u001b[0m\u001b[0;34m\u001b[0m\u001b[0m\n\u001b[1;32m     27\u001b[0m     \u001b[0mpredict\u001b[0m \u001b[0;34m=\u001b[0m \u001b[0mlabel_names\u001b[0m\u001b[0;34m[\u001b[0m\u001b[0my_pred\u001b[0m\u001b[0;34m[\u001b[0m\u001b[0mparent_idx\u001b[0m\u001b[0;34m]\u001b[0m\u001b[0;34m]\u001b[0m                   \u001b[0;31m# prediction of the worst error\u001b[0m\u001b[0;34m\u001b[0m\u001b[0;34m\u001b[0m\u001b[0m\n\u001b[0;32m---> 28\u001b[0;31m     \u001b[0mbatch\u001b[0m \u001b[0;34m=\u001b[0m \u001b[0mlist\u001b[0m\u001b[0;34m(\u001b[0m\u001b[0mdata_ds\u001b[0m\u001b[0;34m.\u001b[0m\u001b[0mskip\u001b[0m\u001b[0;34m(\u001b[0m\u001b[0mbatch_idx\u001b[0m\u001b[0;34m)\u001b[0m\u001b[0;34m.\u001b[0m\u001b[0mtake\u001b[0m\u001b[0;34m(\u001b[0m\u001b[0;36m1\u001b[0m\u001b[0;34m)\u001b[0m\u001b[0;34m)\u001b[0m\u001b[0;34m[\u001b[0m\u001b[0;36m0\u001b[0m\u001b[0;34m]\u001b[0m\u001b[0;34m[\u001b[0m\u001b[0;36m0\u001b[0m\u001b[0;34m]\u001b[0m\u001b[0;34m.\u001b[0m\u001b[0mnumpy\u001b[0m\u001b[0;34m(\u001b[0m\u001b[0;34m)\u001b[0m \u001b[0;31m# remove the label\u001b[0m\u001b[0;34m\u001b[0m\u001b[0;34m\u001b[0m\u001b[0m\n\u001b[0m\u001b[1;32m     29\u001b[0m     \u001b[0mpicture\u001b[0m \u001b[0;34m=\u001b[0m \u001b[0mbatch\u001b[0m\u001b[0;34m[\u001b[0m\u001b[0midx\u001b[0m\u001b[0;34m]\u001b[0m\u001b[0;34m\u001b[0m\u001b[0;34m\u001b[0m\u001b[0m\n\u001b[1;32m     30\u001b[0m \u001b[0;34m\u001b[0m\u001b[0m\n",
      "\u001b[0;31mAttributeError\u001b[0m: 'ImageFolder' object has no attribute 'skip'"
     ]
    }
   ],
   "source": [
    "find_the_worst_error(prob=prob, \n",
    "                     y_pred=y_pred, \n",
    "                     y_true=y_true, \n",
    "                     label_names=label_names, \n",
    "                     data_ds=val_set, \n",
    "                     batch_size=batch_size)"
   ]
  }
 ],
 "metadata": {
  "interpreter": {
   "hash": "be203ce0b3afc4f5c37fbac412025d7ed1d67cabe9dd00b1fc8774c6d6d19d70"
  },
  "kernelspec": {
   "display_name": "Python [conda env:root] *",
   "language": "python",
   "name": "conda-root-py"
  },
  "language_info": {
   "codemirror_mode": {
    "name": "ipython",
    "version": 3
   },
   "file_extension": ".py",
   "mimetype": "text/x-python",
   "name": "python",
   "nbconvert_exporter": "python",
   "pygments_lexer": "ipython3",
   "version": "3.7.10"
  },
  "orig_nbformat": 4
 },
 "nbformat": 4,
 "nbformat_minor": 2
}
