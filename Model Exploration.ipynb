{
 "cells": [
  {
   "cell_type": "markdown",
   "metadata": {},
   "source": [
    "# 1. Resources"
   ]
  },
  {
   "cell_type": "code",
   "execution_count": 1,
   "metadata": {
    "vscode": {
     "languageId": "python"
    }
   },
   "outputs": [],
   "source": [
    "# Essentials\n",
    "import pickle\n",
    "import os\n",
    "import math\n",
    "import numpy as np\n",
    "import pandas as pd\n",
    "import seaborn as sns\n",
    "\n",
    "# Visualization\n",
    "import matplotlib.pyplot as plt\n",
    "%matplotlib inline\n",
    "\n",
    "from sklearn.metrics import confusion_matrix\n",
    "from sklearn.model_selection import StratifiedGroupKFold\n",
    "\n",
    "# PyTorch\n",
    "import torch\n",
    "import torchvision\n",
    "import torch.nn as nn  \n",
    "import torch.nn.functional as F  \n",
    "import torchvision.datasets as datasets  \n",
    "import torchvision.transforms as transforms  \n",
    "from torch.utils.data import DataLoader"
   ]
  },
  {
   "cell_type": "code",
   "execution_count": 2,
   "metadata": {
    "vscode": {
     "languageId": "python"
    }
   },
   "outputs": [
    {
     "data": {
      "text/plain": [
       "'1.9.0'"
      ]
     },
     "execution_count": 2,
     "metadata": {},
     "output_type": "execute_result"
    }
   ],
   "source": [
    "torch.__version__"
   ]
  },
  {
   "cell_type": "code",
   "execution_count": 3,
   "metadata": {
    "vscode": {
     "languageId": "python"
    }
   },
   "outputs": [
    {
     "name": "stdout",
     "output_type": "stream",
     "text": [
      "cuda:0\n"
     ]
    }
   ],
   "source": [
    "device = torch.device(\"cuda:0\" if torch.cuda.is_available() else \"cpu\")\n",
    "print(device)"
   ]
  },
  {
   "cell_type": "markdown",
   "metadata": {},
   "source": [
    "Variables and Function define"
   ]
  },
  {
   "cell_type": "code",
   "execution_count": null,
   "metadata": {
    "vscode": {
     "languageId": "python"
    }
   },
   "outputs": [],
   "source": [
    "# Imagenet normalization\n",
    "in_mean = [0.485, 0.456, 0.406]\n",
    "in_std = [0.229, 0.224, 0.225]\n",
    "\n",
    "mean = [0.5, 0.5, 0.5]\n",
    "std = [0.5, 0.5, 0.5]\n",
    "\n",
    "data_transforms = {\n",
    "    \"train\": transforms.Compose([\n",
    "        transforms.RandomResizedCrop(224),  \n",
    "        transforms.RandomHorizontalFlip(),  # augmentations\n",
    "        transforms.ToTensor(),\n",
    "        transforms.Normalize(mean, std)  \n",
    "    ]),\n",
    "    \"val\": transforms.Compose([\n",
    "        transforms.Resize(256),\n",
    "        transforms.CenterCrop(224),\n",
    "        transforms.ToTensor(),\n",
    "        transforms.Normalize(mean, std)\n",
    "    ]),\n",
    "}"
   ]
  },
  {
   "cell_type": "code",
   "execution_count": null,
   "metadata": {
    "vscode": {
     "languageId": "python"
    }
   },
   "outputs": [],
   "source": [
    "# Function for import data\n",
    "def data_preprocess_kfold_group_stratify(meta_path, classify, brand, location, fold_chosen, split=5):\n",
    "    path_bag_loc_df = pd.read_csv(meta_path + 'imagepaths.csv')\n",
    "    path_bag_df = path_bag_loc_df[path_bag_loc_df.location == location].drop(\"location\", axis=1)\n",
    "    bag_classify_df = pd.read_csv(meta_path + f'bags{brand}.csv')[['bag', classify]]\n",
    "    path_bag_classify_df = path_bag_df.merge(bag_classify_df, how='left', on='bag').replace(r'^\\s*$', np.NaN, regex=True).dropna(axis=0)\n",
    "    # Stratified Group K-fold\n",
    "    path_bag_classify_df['fold'] = -1\n",
    "    sgkf = StratifiedGroupKFold(n_splits=split)\n",
    "    for fold, (train_idxs, test_idxs) in enumerate(sgkf.split(X=path_bag_classify_df['path'].values, \n",
    "                                                              y=path_bag_classify_df[classify].values, \n",
    "                                                              groups=path_bag_classify_df['bag'])):\n",
    "        path_bag_classify_df.iloc[test_idxs, 3] = fold\n",
    "    path_classify_df = path_bag_classify_df.drop(\"bag\", axis= 1)\n",
    "    train_df = path_classify_df[path_classify_df.fold != fold_chosen].drop(\"fold\", axis=1)\n",
    "    val_df = path_classify_df[path_classify_df.fold == fold_chosen].drop(\"fold\", axis=1)\n",
    "    labels = np.intersect1d(train_df[classify].unique(), val_df[classify].unique())\n",
    "    train_df2 = train_df[train_df[classify].isin(labels)]\n",
    "    val_df2 = val_df[val_df[classify].isin(labels)]\n",
    "    print(f\"Take {fold_chosen}th fold for validation\")\n",
    "    print(f\"Train: {len(train_df)} samples, {len(train_df[classify].unique())} classes.\")\n",
    "    print(f\"Validation: {len(val_df)} samples, {len(val_df[classify].unique())} classes.\")\n",
    "    print(f\"Use intersecting label with {len(labels)} classes.\")\n",
    "    print(f\"Using {round(train_df[classify].isin(labels).value_counts(normalize=True)[1], 4) * 100}% samples in train dataset.\")\n",
    "    print(f\"Using {round(val_df[classify].isin(labels).value_counts(normalize=True)[1], 4) * 100}% samples in validation dataset.\")\n",
    "    return train_df2, val_df2, labels"
   ]
  },
  {
   "cell_type": "code",
   "execution_count": null,
   "metadata": {
    "vscode": {
     "languageId": "python"
    }
   },
   "outputs": [],
   "source": [
    "# Function for lower triangle confusion matrix\n",
    "def tril_confusion_matrix(y_true, y_pred, normalize = None, tril=True):\n",
    "    \"\"\"Create a lower triangle confusion matrix\n",
    "\n",
    "    Args:\n",
    "        y_true (NumpyArray): true labels\n",
    "        y_pred (NumpyArray): prediction labels\n",
    "        normalize (\"true\", \"pred\", \"all\", None optional): Choose whether normalize or not. Defaults to None.\n",
    "    \"\"\"\n",
    "    cm = confusion_matrix(y_true, y_pred, normalize=normalize)\n",
    "    # Create an mask for triangle\n",
    "    mask = np.ones_like(cm, dtype=np.bool)\n",
    "    mask[np.tril_indices_from(mask)] = False\n",
    "\n",
    "    # Plot confusion matrix in a beautiful manner\n",
    "    sns.set_style()\n",
    "    fig = plt.figure(figsize=(16, 14))\n",
    "    ax = plt.subplot()\n",
    "\n",
    "    if tril == True:\n",
    "        sns.heatmap(cm, ax=ax, mask=mask, cmap=\"Blues\", square=True, linewidths=.5)\n",
    "    else:\n",
    "        sns.heatmap(cm, ax=ax, cmap=\"Blues\", square=True, linewidths=.5)\n",
    "\n",
    "    ax.set_xlabel('Predicted Label', fontsize=20)\n",
    "    ax.set_ylabel('True Label', fontsize=20)\n",
    "    plt.yticks(rotation=0)\n",
    "    plt.title('Lower Triangle Confusion Matrix', fontsize=20)\n",
    "    # plt.savefig('ConfusionMat.png')\n",
    "    plt.show()"
   ]
  },
  {
   "cell_type": "code",
   "execution_count": null,
   "metadata": {
    "vscode": {
     "languageId": "python"
    }
   },
   "outputs": [],
   "source": [
    "# Function for find the worst error\n",
    "def find_the_worst_error(prob, y_pred, y_true, label_names, data_ds, batch_size):\n",
    "    \"\"\"Input numpy array with probability, prediction labels, true labels, dataset, batch size.\n",
    "    Which return the worst prediction picture, predict and label\n",
    "\n",
    "    Args:\n",
    "        prob (ndarray): probability after prediction\n",
    "        y_pred (numpy.array): prediction label of dataset\n",
    "        y_true (numpy.array): true label of dataset\n",
    "        data_ds (tf.dataset): dataset\n",
    "        batch_size (int): batch size of dataset\n",
    "        label_names (list): list of labels class name\n",
    "\n",
    "    Returns:\n",
    "        _type_: _description_\n",
    "    \"\"\"\n",
    "    \n",
    "    # Find index\n",
    "    mask = y_pred != y_true\n",
    "    subset_idx = np.argmax(prob[mask]) // len(label_names)      # find the max probability with mask\n",
    "    parent_idx = np.arange(prob.shape[0])[mask][subset_idx]     # find index in parent dataset\n",
    "    batch_idx = parent_idx // batch_size                        # find batch\n",
    "    idx = parent_idx % batch_size                               # find index in batch\n",
    "    \n",
    "    # Variable return\n",
    "    label = label_names[y_true[parent_idx]]                     # label of the worst error\n",
    "    worst_prob = max(prob[mask].flatten())\n",
    "    predict = label_names[y_pred[parent_idx]]                   # prediction of the worst error\n",
    "    batch = list(data_ds.skip(batch_idx).take(1))[0][0].numpy() # remove the label\n",
    "    picture = batch[idx]\n",
    "    \n",
    "    # Print result\n",
    "    plt.imshow(picture.astype(np.uint8))\n",
    "    plt.axis(\"off\")\n",
    "    print(f\"The prediction label is: {predict}\")\n",
    "    print(f\"The true label is: {label}\")\n",
    "    print(f\"The probability is {worst_prob * 100}%\")"
   ]
  },
  {
   "cell_type": "code",
   "execution_count": null,
   "metadata": {
    "vscode": {
     "languageId": "python"
    }
   },
   "outputs": [],
   "source": [
    "# Function return N top error\n",
    "def top_n_error(prob, y_pred, y_true, labels, data_ds, batch_size, n_top):\n",
    "    mask = y_pred != y_true\n",
    "    error_df = prob[mask]\n",
    "    flat_indices = np.argpartition(error_df.ravel(), -n_top)[-n_top:]\n",
    "    error_indices, label_indices = np.unravel_index(flat_indices, error_df.shape)\n",
    "    img_indices = np.arange(prob.shape[0])[mask][error_indices]\n",
    "    batch_indices = img_indices % batch_size\n",
    "    idx = img_indices % batch_size\n",
    "            \n",
    "    # Variable return\n",
    "    prob_list = []\n",
    "    picture_list = []\n",
    "    for i in range(n_top):\n",
    "        prob_list.append(error_df[error_indices[i], label_indices[i]])\n",
    "        batch = list(data_ds.skip(batch_indices[i]).take(1))[0][0].numpy()\n",
    "        picture_list.append(batch[idx[i]])\n",
    "    label_list = y_true[img_indices]\n",
    "    predict_list = y_pred[img_indices]\n",
    "\n",
    "    # Print result\n",
    "    width = 5\n",
    "    height = int(np.ceil(n_top / width))\n",
    "    plt.figure(figsize=(20, 5 * height))\n",
    "    for i in range(n_top):\n",
    "        picture = picture_list[i]\n",
    "        plt.subplot(height, width, i + 1)\n",
    "        plt.imshow(picture.astype(np.uint8))\n",
    "        plt.title(f\"True: {labels[label_list[i]]} \\n Predict: {labels[predict_list[i]]} \\n {round(prob_list[i], 2) * 100}%\")\n",
    "        plt.axis(\"off\")"
   ]
  },
  {
   "cell_type": "code",
   "execution_count": null,
   "metadata": {
    "vscode": {
     "languageId": "python"
    }
   },
   "outputs": [],
   "source": [
    "# Visualization for class compare\n",
    "def class_sample_comparision(val_df, train_df, classify, labels, numlist):\n",
    "    label1 = labels[numlist[0]]\n",
    "    label2 = labels[numlist[1]]\n",
    "    path_list_1 = list(val_df[val_df[classify] == label1].drop(classify, axis=1)[\"path\"])\n",
    "    path_list_2 = list(val_df[val_df[classify] == label2].drop(classify, axis=1)[\"path\"])\n",
    "    path_list_3 = list(train_df[train_df[classify] == label1].drop(classify, axis=1)[\"path\"])\n",
    "    path_list_4 = list(train_df[train_df[classify] == label2].drop(classify, axis=1)[\"path\"])\n",
    "\n",
    "    plt.figure(figsize=(20, 14))\n",
    "    for i in range(5):\n",
    "        path = random.choice(path_list_1)\n",
    "        ax = plt.subplot(4, 5, i + 1)\n",
    "        img = cv2.imread(path)[..., ::-1]\n",
    "        plt.imshow(img)\n",
    "        plt.title(f\"Validation-{label1}\")\n",
    "        plt.axis(\"off\")\n",
    "    for i in range(5):\n",
    "        path = random.choice(path_list_2)\n",
    "        ax = plt.subplot(4, 5, i + 6)\n",
    "        img = cv2.imread(path)[..., ::-1]\n",
    "        plt.imshow(img)\n",
    "        plt.title(f\"Validation-{label2}\")\n",
    "        plt.axis(\"off\")\n",
    "    for i in range(5):\n",
    "        path = random.choice(path_list_3)\n",
    "        ax = plt.subplot(4, 5, i + 11)\n",
    "        img = cv2.imread(path)[..., ::-1]\n",
    "        plt.imshow(img)\n",
    "        plt.title(f\"Train-{label1}\")\n",
    "        plt.axis(\"off\")\n",
    "    for i in range(5):\n",
    "        path = random.choice(path_list_4)\n",
    "        ax = plt.subplot(4, 5, i + 16)\n",
    "        img = cv2.imread(path)[..., ::-1]\n",
    "        plt.imshow(img)\n",
    "        plt.title(f\"Train-{label2}\")\n",
    "        plt.axis(\"off\")"
   ]
  },
  {
   "cell_type": "markdown",
   "metadata": {},
   "source": [
    "## 1.1. Meta data"
   ]
  },
  {
   "cell_type": "code",
   "execution_count": null,
   "metadata": {
    "vscode": {
     "languageId": "python"
    }
   },
   "outputs": [],
   "source": [
    "fold_chosen = 2\n",
    "classify = \"mat\"\n",
    "brand = \"gucci\"\n",
    "location = 1\n",
    "meta_path = \"/storage/experiments/gucci-202202211437/csv/\""
   ]
  },
  {
   "cell_type": "code",
   "execution_count": null,
   "metadata": {
    "vscode": {
     "languageId": "python"
    }
   },
   "outputs": [],
   "source": [
    "train_df, val_df, labels = data_preprocess_kfold_group_stratify(meta_path, classify, brand, location, fold_chosen)"
   ]
  },
  {
   "cell_type": "code",
   "execution_count": null,
   "metadata": {
    "vscode": {
     "languageId": "python"
    }
   },
   "outputs": [],
   "source": [
    "train_df = train_df[train_df[classify].isin(labels)]\n",
    "val_df = val_df[val_df[classify].isin(labels)]"
   ]
  },
  {
   "cell_type": "code",
   "execution_count": null,
   "metadata": {
    "vscode": {
     "languageId": "python"
    }
   },
   "outputs": [
    {
     "name": "stdout",
     "output_type": "stream",
     "text": [
      "leather                30.70\n",
      "gg supreme canvas      19.39\n",
      "canvas                 17.74\n",
      "ggcanvas                9.36\n",
      "coatedcanvas            4.71\n",
      "guccissima              4.23\n",
      "microguccissima         1.74\n",
      "nylon                   1.28\n",
      "suede                   1.27\n",
      "flora canvas            1.22\n",
      "guccissima nylon        1.04\n",
      "gg plus                 1.04\n",
      "python                  0.82\n",
      "gg imprime              0.66\n",
      "calf                    0.65\n",
      "enamel                  0.59\n",
      "denim                   0.49\n",
      "velvet                  0.40\n",
      "gg embossed leather     0.28\n",
      "gg nylon                0.24\n",
      "gg crystal              0.23\n",
      "linen                   0.21\n",
      "jacquard                0.15\n",
      "ostrich                 0.15\n",
      "crocodile               0.14\n",
      "lizard                  0.13\n",
      "quilted leather         0.11\n",
      "leather+canvas          0.10\n",
      "canvas+leather          0.10\n",
      "wool                    0.10\n",
      "velor                   0.07\n",
      "pig                     0.07\n",
      "nubuck                  0.06\n",
      "fur                     0.06\n",
      "suede+leather           0.06\n",
      "raffia                  0.05\n",
      "felt                    0.05\n",
      "flora leather           0.04\n",
      "pvcvinyl                0.04\n",
      "straw                   0.04\n",
      "buckskin                0.03\n",
      "satin                   0.03\n",
      "mouton                  0.03\n",
      "patent leather          0.03\n",
      "nylon+leather           0.03\n",
      "vinyl                   0.03\n",
      "beads                   0.02\n",
      "Name: mat, dtype: float64\n"
     ]
    }
   ],
   "source": [
    "# Take a quick look at class distribution\n",
    "label_df = val_df[\"mat\"]\n",
    "freq = label_df.value_counts(normalize=True)\n",
    "freq = round(freq, 4) * 100     # convert to percentage\n",
    "print(freq)    "
   ]
  },
  {
   "cell_type": "markdown",
   "metadata": {},
   "source": [
    "## 1.2 Dataset, DataLoader"
   ]
  },
  {
   "cell_type": "code",
   "execution_count": null,
   "metadata": {
    "vscode": {
     "languageId": "python"
    }
   },
   "outputs": [],
   "source": [
    "# Directories\n",
    "data_dir = \"/storage/intern\"\n",
    "label_path = \"./mat/MatLB3\"\n",
    "params_path = \"./model/model_params\"\n",
    "experiment = \"mat\"\n",
    "# Define parameter\n",
    "batch_size = 64\n",
    "num_workers = 2"
   ]
  },
  {
   "cell_type": "code",
   "execution_count": null,
   "metadata": {
    "vscode": {
     "languageId": "python"
    }
   },
   "outputs": [],
   "source": [
    "# Dataset\n",
    "train_set = datasets.ImageFolder(os.path.join(data_dir, \"train\"), data_transforms[\"train\"])\n",
    "val_set = datasets.ImageFolder(os.path.join(data_dir, \"val\"), data_transforms[\"val\"])\n",
    "# Loader\n",
    "train_loader = torch.utils.data.DataLoader(train_set, batch_size=batch_size, shuffle=True, num_workers=num_workers)\n",
    "val_loader = torch.utils.data.DataLoader(val_set, batch_size=batch_size, shuffle=False, num_workers=num_workers)"
   ]
  },
  {
   "cell_type": "markdown",
   "metadata": {},
   "source": [
    "Dataset characteristic"
   ]
  },
  {
   "cell_type": "code",
   "execution_count": null,
   "metadata": {
    "vscode": {
     "languageId": "python"
    }
   },
   "outputs": [],
   "source": [
    "train_size = len(train_set)\n",
    "val_size = len(val_set)\n",
    "num_batches = math.floor(train_size/batch_size)\n",
    "print(f\"Train dataset: {train_size}\")\n",
    "print(f\"Val dataset: {val_size}\")\n",
    "print(f\"Number of batches: {num_batches}\")"
   ]
  },
  {
   "cell_type": "code",
   "execution_count": null,
   "metadata": {
    "vscode": {
     "languageId": "python"
    }
   },
   "outputs": [],
   "source": [
    "# Labels\n",
    "label_names = pickle.loads(open(label_path, \"rb\").read())\n",
    "print(len(label_names))"
   ]
  },
  {
   "cell_type": "markdown",
   "metadata": {},
   "source": [
    "## 1.3. Model"
   ]
  },
  {
   "cell_type": "code",
   "execution_count": null,
   "metadata": {
    "vscode": {
     "languageId": "python"
    }
   },
   "outputs": [
    {
     "name": "stderr",
     "output_type": "stream",
     "text": [
      "Using cache found in /root/.cache/torch/hub/NVIDIA_DeepLearningExamples_torchhub\n",
      "/root/.cache/torch/hub/NVIDIA_DeepLearningExamples_torchhub/PyTorch/Classification/ConvNets/image_classification/models/common.py:14: UserWarning: pytorch_quantization module not found, quantization will not be available\n",
      "  \"pytorch_quantization module not found, quantization will not be available\"\n",
      "/root/.cache/torch/hub/NVIDIA_DeepLearningExamples_torchhub/PyTorch/Classification/ConvNets/image_classification/models/efficientnet.py:18: UserWarning: pytorch_quantization module not found, quantization will not be available\n",
      "  \"pytorch_quantization module not found, quantization will not be available\"\n"
     ]
    },
    {
     "name": "stdout",
     "output_type": "stream",
     "text": [
      "31\n"
     ]
    }
   ],
   "source": [
    "# Model\n",
    "model = torch.hub.load('NVIDIA/DeepLearningExamples:torchhub', 'nvidia_efficientnet_widese_b0', pretrained=True)\n",
    "in_fc = model.classifier.fc.in_features\n",
    "model.classifier.fc = nn.Linear(in_fc, num_class)\n",
    "# Load params\n",
    "model.load_state_dict(torch.load(params_path))\n",
    "model.eval()\n",
    "# Labels\n",
    "label_names = pickle.loads(open(label_path, \"rb\").read())\n",
    "print(len(label_names))"
   ]
  },
  {
   "cell_type": "markdown",
   "metadata": {},
   "source": [
    "# 2. Classes"
   ]
  },
  {
   "cell_type": "code",
   "execution_count": 10,
   "metadata": {
    "vscode": {
     "languageId": "python"
    }
   },
   "outputs": [],
   "source": [
    "# Pick top-20 classes for visualization\n",
    "val_freq = pd.DataFrame(round(val_df[classify].value_counts(normalize=True), 4) * 100)[:20]\n",
    "train_freq = pd.DataFrame(round(train_df[classify].value_counts(normalize=True), 4) * 100)[:20]"
   ]
  },
  {
   "cell_type": "code",
   "execution_count": 11,
   "metadata": {
    "vscode": {
     "languageId": "python"
    }
   },
   "outputs": [
    {
     "data": {
      "text/plain": [
       "<Figure size 1152x1008 with 0 Axes>"
      ]
     },
     "metadata": {},
     "output_type": "display_data"
    },
    {
     "data": {
      "image/png": "[encoded data removed]",
      "text/plain": [
       "<Figure size 1080x720 with 1 Axes>"
      ]
     },
     "metadata": {
      "needs_background": "light"
     },
     "output_type": "display_data"
    }
   ],
   "source": [
    "sns.set_style(\"white\")\n",
    "flatui = [\"#95a5a6\", \"#34495e\"]\n",
    "# Validation\n",
    "sns.catplot(data=val_freq.transpose(), kind=\"bar\", height=10, aspect=1.5, legend_out=True, palette=flatui)\n",
    "plt.xticks(rotation=90)\n",
    "plt.title('Validation Distribution', fontsize=20)  \n",
    "#Train\n",
    "sns.catplot(data=train_freq.transpose(), kind=\"bar\", height=10, aspect=1.5, legend_out=True, palette=flatui)\n",
    "plt.xticks(rotation=90)\n",
    "plt.title('Train Distribution', fontsize=20)  \n",
    "# plt.show()"
   ]
  },
  {
   "cell_type": "markdown",
   "metadata": {},
   "source": [
    "# 3. Model evaluation"
   ]
  },
  {
   "cell_type": "markdown",
   "metadata": {},
   "source": [
    "## For first time"
   ]
  },
  {
   "cell_type": "code",
   "execution_count": 19,
   "metadata": {
    "vscode": {
     "languageId": "python"
    }
   },
   "outputs": [],
   "source": [
    "model.eval()\n",
    "model.to(device)\n",
    "prob = []   # probability\n",
    "y_pred = [] # prediction labels\n",
    "y_true = [] # tru labels\n",
    "with torch.no_grad():\n",
    "    for data in val_loader:\n",
    "        images, labels = data\n",
    "        labels = labels.to(device)\n",
    "        images = images.to(device)\n",
    "        # calculate outputs by running images through the network\n",
    "        outputs = model(images)\n",
    "        # the class with the highest energy is what we choose as prediction\n",
    "        _, predicted = torch.max(outputs.data, 1)\n",
    "        labels = labels.detach().cpu().numpy()\n",
    "        outputs = outputs.detach().cpu().numpy()\n",
    "        predicted = predicted.detach().cpu().numpy()\n",
    "        prob.append(outputs)\n",
    "        y_pred.append(predicted)\n",
    "        y_true.append(labels)\n",
    "\n",
    "prob = np.concatenate(prob)        \n",
    "y_pred = np.concatenate(y_pred)\n",
    "y_true = np.concatenate(y_true)"
   ]
  },
  {
   "cell_type": "code",
   "execution_count": 39,
   "metadata": {
    "vscode": {
     "languageId": "python"
    }
   },
   "outputs": [],
   "source": [
    "pred_path = \"./mat/pred\"\n",
    "true_path = \"./mat/true\"\n",
    "prob_path = \"./mat/prob\""
   ]
  },
  {
   "cell_type": "code",
   "execution_count": 40,
   "metadata": {
    "vscode": {
     "languageId": "python"
    }
   },
   "outputs": [],
   "source": [
    "# Pickle label and prediction\n",
    "f = open(pred_path, \"wb\")\n",
    "f.write(pickle.dumps(y_pred))\n",
    "f.close()\n",
    "\n",
    "f = open(true_path, \"wb\")\n",
    "f.write(pickle.dumps(y_true))\n",
    "f.close()\n",
    "\n",
    "f = open(prob_path, \"wb\")\n",
    "f.write(pickle.dumps(prob))\n",
    "f.close()"
   ]
  },
  {
   "cell_type": "markdown",
   "metadata": {},
   "source": [
    "## Reimport probability, predict and true labels"
   ]
  },
  {
   "cell_type": "code",
   "execution_count": 9,
   "metadata": {
    "vscode": {
     "languageId": "python"
    }
   },
   "outputs": [],
   "source": [
    "# y_pred = pickle.loads(open(pred_path, \"rb\").read())\n",
    "# y_true = pickle.loads(open(true_path, \"rb\").read())\n",
    "# prob = pickle.loads(open(prob_path, \"rb\").read())"
   ]
  },
  {
   "cell_type": "markdown",
   "metadata": {},
   "source": [
    "## Confusion matrix:"
   ]
  },
  {
   "cell_type": "markdown",
   "metadata": {},
   "source": [
    "Confusion matrix without Normalized"
   ]
  },
  {
   "cell_type": "code",
   "execution_count": null,
   "metadata": {
    "vscode": {
     "languageId": "python"
    }
   },
   "outputs": [],
   "source": [
    "tril_confusion_matrix(y_true, y_pred)"
   ]
  },
  {
   "cell_type": "markdown",
   "metadata": {},
   "source": [
    "Confusion Matrix with Normalized"
   ]
  },
  {
   "cell_type": "code",
   "execution_count": null,
   "metadata": {
    "vscode": {
     "languageId": "python"
    }
   },
   "outputs": [],
   "source": [
    "tril_confusion_matrix(y_true, y_pred, normalize=\"true\", tril=False)"
   ]
  },
  {
   "cell_type": "markdown",
   "metadata": {},
   "source": [
    "Visualize error"
   ]
  },
  {
   "cell_type": "code",
   "execution_count": null,
   "metadata": {
    "vscode": {
     "languageId": "python"
    }
   },
   "outputs": [],
   "source": [
    "a = [4, 16, 20]\n",
    "for num in a:\n",
    "    print(labels[num])"
   ]
  },
  {
   "cell_type": "code",
   "execution_count": null,
   "metadata": {
    "vscode": {
     "languageId": "python"
    }
   },
   "outputs": [],
   "source": [
    "# Confusion dictionary for > 0.6 confusion rate\n",
    "cm = confusion_matrix(y_true, y_pred, normalize=\"true\")\n",
    "np.fill_diagonal(cm, 0)\n",
    "label_idx, pred_idx = np.where(cm > 0.6)\n",
    "confusion_dict = {}\n",
    "for i in range(len(label_idx)):\n",
    "    high_rate = [label_idx[i], pred_idx[i]]\n",
    "    confusion_dict[f\"high_{i + 1}\"] = high_rate\n",
    "    print(high_rate)"
   ]
  },
  {
   "cell_type": "code",
   "execution_count": null,
   "metadata": {
    "vscode": {
     "languageId": "python"
    }
   },
   "outputs": [],
   "source": [
    "for i in (confusion_dict):\n",
    "    class_sample_comparision(val_df, train_df, classify, labels, confusion_dict[i])"
   ]
  },
  {
   "cell_type": "code",
   "execution_count": null,
   "metadata": {
    "vscode": {
     "languageId": "python"
    }
   },
   "outputs": [],
   "source": [
    "find_the_worst_error(prob=prob, \n",
    "                     y_pred=y_pred, \n",
    "                     y_true=y_true, \n",
    "                     label_names=labels, \n",
    "                     data_ds=val_ds, \n",
    "                     batch_size=batch_size)"
   ]
  },
  {
   "cell_type": "code",
   "execution_count": null,
   "metadata": {
    "vscode": {
     "languageId": "python"
    }
   },
   "outputs": [],
   "source": [
    "top_n_error(prob, y_pred, y_true, labels, val_ds, batch_size, 14)"
   ]
  }
 ],
 "metadata": {
  "interpreter": {
   "hash": "be203ce0b3afc4f5c37fbac412025d7ed1d67cabe9dd00b1fc8774c6d6d19d70"
  },
  "kernelspec": {
   "display_name": "Python [conda env:root] *",
   "language": "python",
   "name": "conda-root-py"
  },
  "orig_nbformat": 4
 },
 "nbformat": 4,
 "nbformat_minor": 2
}
