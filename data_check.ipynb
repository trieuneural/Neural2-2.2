{
 "cells": [
  {
   "cell_type": "markdown",
   "metadata": {},
   "source": [
    "Data run"
   ]
  },
  {
   "cell_type": "code",
   "execution_count": 1,
   "metadata": {},
   "outputs": [
    {
     "name": "stdout",
     "output_type": "stream",
     "text": [
      "mdadm: chunk size defaults to 512K\n",
      "mdadm: Defaulting to version 1.2 metadata\n",
      "mdadm: array /dev/md0 started.\n",
      "mke2fs 1.44.1 (24-Mar-2018)\n",
      "Discarding device blocks:      4096/29481292 11538432/29481292 31985664/29481292 52432896/29481292 73404416/29481292 93851648/29481292114298880/29481292134746112/29481292155717632/29481292176164864/29481292196612096/29481292217583616/29481292238030848/29481292258478080/29481292279449600/29481292                  done                            \n",
      "Creating filesystem with 294812928 4k blocks and 73703424 inodes\n",
      "Filesystem UUID: 1b2dc26f-a18c-4456-9a65-e33d83e71eee\n",
      "Superblock backups stored on blocks: \n",
      "\t32768, 98304, 163840, 229376, 294912, 819200, 884736, 1605632, 2654208, \n",
      "\t4096000, 7962624, 11239424, 20480000, 23887872, 71663616, 78675968, \n",
      "\t102400000, 214990848\n",
      "\n",
      "Allocating group tables:    0/899        done                            \n",
      "Writing inode tables:    0/899        done                            \n",
      "Creating journal (262144 blocks): done\n",
      "Writing superblocks and filesystem accounting information:    0/899        done\n",
      "\n"
     ]
    }
   ],
   "source": [
    "!sudo mdadm --create --verbose /dev/md0 --level=0 --raid-devices=$(ls /dev/nvme0n* | wc -l) $(ls /dev/nvme0n*)\n",
    "!mkfs.ext4 /dev/md0\n",
    "!mkdir -p /storage\n",
    "!mount /dev/md0 /storage"
   ]
  },
  {
   "cell_type": "code",
   "execution_count": 1,
   "metadata": {},
   "outputs": [
    {
     "name": "stdout",
     "output_type": "stream",
     "text": [
      "None  SimCLR-tidrael  exp  mat\tshingan-ml  snap  wandb\n"
     ]
    }
   ],
   "source": [
    "!ls"
   ]
  },
  {
   "cell_type": "code",
   "execution_count": 1,
   "metadata": {},
   "outputs": [
    {
     "data": {
      "text/plain": [
       "{'SOHO': 'SOHO',\n",
       " 'GUCCI HORSBIT 1955': 'GUCCI HORSBIT 1955',\n",
       " 'GGｷｬﾝﾊﾞｽ': 'GUCCI CANVAS',\n",
       " 'QUEEN MARGARET': 'QUEEN MARGARET',\n",
       " 'GG CALEIDO': 'GG CALEIDO',\n",
       " 'MM MARMONT': 'MM MARMONT',\n",
       " 'ﾓﾉｸﾞﾗﾑ ｴｸﾘﾌﾟｽ': 'monogrameclipse',\n",
       " 'DORAEMON': 'DORAEMON',\n",
       " \"CHILDREN'S GG SYLVIE BOW\": \"CHILDREN'S GG SYLVIE BOW\",\n",
       " 'GUCCI OF THE GRID': 'GUCCI OF THE GRID',\n",
       " 'BAMBOO CLASSIC': 'BAMBOO CLASSIC',\n",
       " 'ｸﾞｯﾁ ﾚ ﾎﾟﾑ': 'les pommes',\n",
       " 'RAJAH': 'RAJAH',\n",
       " 'CHILDRENS': 'CHILDRENS',\n",
       " 'ＧＧマーモント': 'GG MARMONT',\n",
       " 'Monogram Eclipse': 'monogrameclipse',\n",
       " 'RE(BELLE)': 'RE(BELLE)',\n",
       " 'ZUMI': 'ZUMI',\n",
       " 'MMマーモント': 'MM MARMONT',\n",
       " 'unknown': 'unknown',\n",
       " 'NYMPHAEA': 'NYMPHAEA',\n",
       " 'GUCCI CHILDRENS': 'GUCCI CHILDRENS',\n",
       " 'GGキャンバス': 'ggcanvas',\n",
       " 'ﾄﾞﾗえもん×GUCCI': 'unknown',\n",
       " 'OPHIDIA': 'OPHIDIA',\n",
       " 'PETIT MARMONT': 'PETIT MARMONT',\n",
       " 'GGインプリメ': 'GGIMPRIME',\n",
       " 'METAL BAR': 'METAL BAR',\n",
       " 'SYLVIE': 'SYLVIE',\n",
       " 'GUCCY': 'GUCCY',\n",
       " 'DIONYSUS': 'DIONYSUS',\n",
       " 'BOWY': 'BOWY',\n",
       " 'PETITE MARMONT': 'PETIT MARMONT',\n",
       " 'GG APPLE': 'GG APPLE',\n",
       " 'GUCCI ZUMI': 'GUCCI ZUMI',\n",
       " 'GGｽﾌﾟﾘｰﾑｷｬﾝﾊﾞｽ': 'gg supreme canvas',\n",
       " 'ggcanvas': 'ggcanvas',\n",
       " 'GUCCI NYMPHAEA': 'GUCCI NYMPHAEA',\n",
       " 'QUEEN\\u3000MARGRET': 'QUEEN MARGARET',\n",
       " 'GUCCI CORRIER': 'GUCCI CORRIER',\n",
       " 'GUTTI\\u3000PRINT': 'GUCCI PRINT',\n",
       " 'グッチシマ': 'guccishima',\n",
       " 'GGPLUS': 'GGPLUS',\n",
       " 'Monogram': 'monogram',\n",
       " 'GUCCI OFF THE GRID': 'GUCCI OFF THE GRID',\n",
       " 'GUCCI TIAN': 'GUCCI TIAN',\n",
       " 'GUCCI HORSEBIT 1955': 'GUCCI HORSEBIT 1955',\n",
       " 'Guccishima': 'guccishima',\n",
       " 'OHPIDIA': 'OHPIDIA',\n",
       " 'random': 'random',\n",
       " 'GG BLOOMS': 'GG BLOOMS',\n",
       " 'NEO VINTAGE': 'NEO VINTAGE',\n",
       " 'JACKIE 1961': 'JACKIE 1961',\n",
       " 'GUCCI100': 'GUCCI100',\n",
       " 'GG MARMONT': 'GG MARMONT',\n",
       " 'ARLI': 'ARLI',\n",
       " 'NEW WEB': 'NEW WEB',\n",
       " 'GGIMPRIME': 'GGIMPRIME',\n",
       " 'GUCCI PRINT': 'GUCCI PRINT',\n",
       " 'ANIMALIER': 'ANIMALIER',\n",
       " 'GUCCI CANVAS': 'GUCCI CANVAS',\n",
       " 'ﾓﾉｸﾞﾗﾑ': 'monogram',\n",
       " 'GUCCI COURRIER': 'GUCCI COURRIER',\n",
       " 'DAPPER DAN': 'DAPPER DAN',\n",
       " 'ｼｭﾘｰ': 'sherry',\n",
       " 'ブルームスプリント': 'BLOOMS PRINT',\n",
       " 'JACKIE': 'JACKIE',\n",
       " 'GGマーモント': 'GG MARMONT',\n",
       " 'PADLOCK': 'PADLOCK',\n",
       " 'ｲﾝｻﾞﾐｯｸｽ ﾗｲﾝ': 'unkown',\n",
       " 'GGプラス': 'GGPLUS',\n",
       " 'ｸﾞｯﾁｼﾏ': 'gucci sima',\n",
       " 'GUCCI HOUSEBIT 1955': 'GUCCI HOUSEBIT 1955',\n",
       " 'In the mix line': 'unkown'}"
      ]
     },
     "execution_count": 1,
     "metadata": {},
     "output_type": "execute_result"
    }
   ],
   "source": [
    "import json\n",
    "\n",
    "matpatgroupings = json.load(open(\"matpatgroupings.json\", \"r\"))\n",
    "matpatgroupings['GUCCI']['materials']\n",
    "matpatgroupings['GUCCI']['patterns']"
   ]
  }
 ],
 "metadata": {
  "interpreter": {
   "hash": "f4bc7a8c15ba7fb07b4ff572d192d497567a1528ebaf0d08738a1757d55b4832"
  },
  "kernelspec": {
   "display_name": "Python 3.8.10 64-bit",
   "language": "python",
   "name": "python3"
  },
  "language_info": {
   "codemirror_mode": {
    "name": "ipython",
    "version": 3
   },
   "file_extension": ".py",
   "mimetype": "text/x-python",
   "name": "python",
   "nbconvert_exporter": "python",
   "pygments_lexer": "ipython3",
   "version": "3.8.10"
  },
  "language_info": {
   "codemirror_mode": {
    "name": "ipython",
    "version": 3
   },
   "file_extension": ".py",
   "mimetype": "text/x-python",
   "name": "python",
   "nbconvert_exporter": "python",
   "pygments_lexer": "ipython3",
   "version": "3.7.10"
  },
  "orig_nbformat": 4
 },
 "nbformat": 4,
 "nbformat_minor": 2
}
