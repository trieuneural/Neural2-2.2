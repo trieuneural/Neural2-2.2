{
 "cells": [
  {
   "cell_type": "markdown",
   "metadata": {},
   "source": [
    "Data run"
   ]
  },
  {
   "cell_type": "code",
   "execution_count": 1,
   "metadata": {},
   "outputs": [
    {
     "name": "stdout",
     "output_type": "stream",
     "text": [
      "mdadm: chunk size defaults to 512K\n",
      "mdadm: Defaulting to version 1.2 metadata\n",
      "mdadm: array /dev/md0 started.\n",
      "mke2fs 1.44.1 (24-Mar-2018)\n",
      "Discarding device blocks:      4096/29481292 11538432/29481292 31985664/29481292 52432896/29481292 73404416/29481292 93851648/29481292114298880/29481292134746112/29481292155717632/29481292176164864/29481292196612096/29481292217583616/29481292238030848/29481292258478080/29481292279449600/29481292                  done                            \n",
      "Creating filesystem with 294812928 4k blocks and 73703424 inodes\n",
      "Filesystem UUID: 1b2dc26f-a18c-4456-9a65-e33d83e71eee\n",
      "Superblock backups stored on blocks: \n",
      "\t32768, 98304, 163840, 229376, 294912, 819200, 884736, 1605632, 2654208, \n",
      "\t4096000, 7962624, 11239424, 20480000, 23887872, 71663616, 78675968, \n",
      "\t102400000, 214990848\n",
      "\n",
      "Allocating group tables:    0/899        done                            \n",
      "Writing inode tables:    0/899        done                            \n",
      "Creating journal (262144 blocks): done\n",
      "Writing superblocks and filesystem accounting information:    0/899        done\n",
      "\n"
     ]
    }
   ],
   "source": [
    "!sudo mdadm --create --verbose /dev/md0 --level=0 --raid-devices=$(ls /dev/nvme0n* | wc -l) $(ls /dev/nvme0n*)\n",
    "!mkfs.ext4 /dev/md0\n",
    "!mkdir -p /storage\n",
    "!mount /dev/md0 /storage"
   ]
  },
  {
   "cell_type": "code",
   "execution_count": 1,
   "metadata": {},
   "outputs": [
    {
     "name": "stdout",
     "output_type": "stream",
     "text": [
      "None  SimCLR-tidrael  exp  mat\tshingan-ml  snap  wandb\n"
     ]
    }
   ],
   "source": [
    "!ls"
   ]
  }
 ],
 "metadata": {
  "kernelspec": {
   "display_name": "Python [conda env:root] *",
   "language": "python",
   "name": "conda-root-py"
  },
  "language_info": {
   "codemirror_mode": {
    "name": "ipython",
    "version": 3
   },
   "file_extension": ".py",
   "mimetype": "text/x-python",
   "name": "python",
   "nbconvert_exporter": "python",
   "pygments_lexer": "ipython3",
   "version": "3.7.10"
  },
  "orig_nbformat": 4
 },
 "nbformat": 4,
 "nbformat_minor": 2
}
